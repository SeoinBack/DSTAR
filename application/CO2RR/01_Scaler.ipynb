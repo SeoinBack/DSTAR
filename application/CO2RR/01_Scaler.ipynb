{
 "cells": [
  {
   "cell_type": "code",
   "execution_count": 77,
   "metadata": {},
   "outputs": [],
   "source": [
    "from script.condition import activity, boundary_condition\n",
    "\n",
    "import pandas as pd\n",
    "import numpy as np\n",
    "import tqdm\n",
    "import os\n",
    "import joblib\n",
    "\n",
    "from sklearn.preprocessing import MinMaxScaler, StandardScaler "
   ]
  },
  {
   "cell_type": "markdown",
   "metadata": {},
   "source": [
    "## Make Scaler"
   ]
  },
  {
   "cell_type": "code",
   "execution_count": 78,
   "metadata": {},
   "outputs": [
    {
     "name": "stderr",
     "output_type": "stream",
     "text": [
      "100%|██████████| 25/25 [13:16<00:00, 31.88s/it]\n"
     ]
    }
   ],
   "source": [
    "products = ['formate','co','c1','h2'] # expected CO2RR products\n",
    "eU_lst = [-1.65,-1.60,-1.55,-1.50,-1.45,-1.40,-1.35,-1.30,-1.25,\n",
    "          -1.20,-1.15,-1.10,-1.05,-1.00,-0.95,-0.90,-0.85,-0.80,\n",
    "          -0.75,-0.70,-0.65,-0.60,-0.55,-0.50,-0.45] # list of applied potential\n",
    "\n",
    "eU_dict = dict()\n",
    "\n",
    "data_path = 'data/energy/'\n",
    "csv_lst =  os.listdir(data_path) # collect Dataframe with predicted energy of alloy\n",
    "\n",
    "\n",
    "for eU in tqdm.tqdm(eU_lst):\n",
    "    dens_dict = dict()\n",
    "    \n",
    "    for csv in csv_lst:\n",
    "        df = pd.read_csv(data_path + csv, index_col=0)\n",
    "        df.drop_duplicates(['FNN','Same','Sub'], inplace = True) # remain only unique active motifs\n",
    "        name = csv.split('.')[0]\n",
    "        \n",
    "        co_lst = df['co'].to_numpy()\n",
    "        oh_lst = df['oh'].to_numpy()\n",
    "        h_lst  = df['h'].to_numpy()\n",
    "        \n",
    "        total = len(df)\n",
    "        density = np.zeros(4)\n",
    "        \n",
    "        for x,y,z in zip(co_lst, h_lst, oh_lst):\n",
    "            product = boundary_condition(x,y,z,eU) # determine product by boundary conditon\n",
    "            barrier = activity(x,y,z,eU,product)  # calculate thermodynamic barrier\n",
    "            \n",
    "            if barrier <= 0: # count active motifs with no uphill at the applied potential\n",
    "                density[products.index(product)] += 1 \n",
    "        \n",
    "        density /= total # calculate density \n",
    "        dens_dict[name] = density\n",
    "    \n",
    "    eU_dict[eU] = dens_dict        "
   ]
  },
  {
   "cell_type": "code",
   "execution_count": 80,
   "metadata": {},
   "outputs": [
    {
     "data": {
      "text/plain": [
       "['data/scaler_dict.pkl']"
      ]
     },
     "execution_count": 80,
     "metadata": {},
     "output_type": "execute_result"
    }
   ],
   "source": [
    "# generate Scaler to normalize selectivity\n",
    "\n",
    "scaler_dict = {}\n",
    "\n",
    "for eU in eU_lst:\n",
    "    dens_dict = eU_dict[eU]\n",
    "    scaler_lst = []\n",
    "    \n",
    "    for idx,product in enumerate(products):\n",
    "        density = []\n",
    "        for key in dens_dict.keys():\n",
    "            dens = dens_dict[key]\n",
    "            density.append(dens[idx])\n",
    "        \n",
    "        scaler = MinMaxScaler()\n",
    "        fitted_scaler = scaler.fit(np.array(density).reshape(-1,1)) \n",
    "#         print(fitted_scaler.data_max_)\n",
    "        scaler_lst.append(fitted_scaler)\n",
    "        \n",
    "    scaler_dict[eU] = scaler_lst\n",
    "    \n",
    "joblib.dump(scaler_dict, 'data/scaler_dict.pkl')"
   ]
  },
  {
   "cell_type": "code",
   "execution_count": null,
   "metadata": {},
   "outputs": [],
   "source": []
  }
 ],
 "metadata": {
  "kernelspec": {
   "display_name": "Python 3",
   "language": "python",
   "name": "python3"
  },
  "language_info": {
   "codemirror_mode": {
    "name": "ipython",
    "version": 3
   },
   "file_extension": ".py",
   "mimetype": "text/x-python",
   "name": "python",
   "nbconvert_exporter": "python",
   "pygments_lexer": "ipython3",
   "version": "3.8.3"
  }
 },
 "nbformat": 4,
 "nbformat_minor": 4
}
